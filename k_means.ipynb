{
 "cells": [
  {
   "cell_type": "code",
   "execution_count": 1,
   "metadata": {},
   "outputs": [],
   "source": [
    "import numpy as np\n",
    "import pandas as pd"
   ]
  },
  {
   "cell_type": "code",
   "execution_count": 2,
   "metadata": {},
   "outputs": [],
   "source": [
    "MARGIN=10\n",
    "K=26\n",
    "max_iter=1000\n",
    "CENTROIDS=[]"
   ]
  },
  {
   "cell_type": "code",
   "execution_count": 3,
   "metadata": {},
   "outputs": [],
   "source": [
    "def binary_pixel_convert(data_frame: pd.DataFrame, margin=0) -> pd.DataFrame:\n",
    "    sub_df = data_frame.copy()\n",
    "    for col in data_frame.columns:\n",
    "      sub_df.loc[sub_df[col] <= margin, col] = 0\n",
    "      sub_df.loc[sub_df[col] > margin, col] = 1\n",
    "    return sub_df\n"
   ]
  },
  {
   "cell_type": "code",
   "execution_count": 29,
   "metadata": {},
   "outputs": [],
   "source": [
    "def Euclidean_distance(x1: np.array, x2: np.array) -> np.array:\n",
    "    value = np.sum((x1-x2)**2, axis=1)\n",
    "    return np.sqrt(value)\n",
    "\n",
    "\n",
    "def Hamming_distance(x1: np.array, x2: np.array) -> np.array:\n",
    "    x_diff = x1-x2\n",
    "    value = np.count_nonzero(x_diff, axis=1)\n",
    "    return value\n",
    "\n",
    "\n",
    "def Manhattan_distance(x1: np.array, x2: np.array) -> np.array:\n",
    "    value = np.sum(abs(x1-x2), axis=1)\n",
    "    return value\n",
    "\n",
    "\n",
    "def sq_Euclidean_distance(x1:np.array, x2:np.array)-> np.array:\n",
    "    value=np.sum((x1-x2)**2,axis=1)\n",
    "    return value "
   ]
  },
  {
   "cell_type": "code",
   "execution_count": 25,
   "metadata": {},
   "outputs": [],
   "source": [
    "train_file_path = '/Users/sudhanshu/Desktop/coding/python/machine learning/cyberlabs_final_material/data_sets/emnist-letters-train.csv'\n",
    "df = pd.read_csv(train_file_path)\n",
    "x_train = df.iloc[:, 1:785]\n",
    "# x_train = binary_pixel_convert(x_train)\n",
    "# x_train=np.array(x_train)\n",
    "# m=x_train.shape[0]\n",
    "y_input = np.array(df[['23']])"
   ]
  },
  {
   "cell_type": "code",
   "execution_count": 26,
   "metadata": {},
   "outputs": [],
   "source": [
    "m=x_train.shape[0]\n",
    "index = np.random.randint(m, size=26)\n",
    "random_centroids=x_train.iloc[index, :]\n",
    "groups = [pos for pos in range(1, 27)]\n"
   ]
  },
  {
   "cell_type": "code",
   "execution_count": 27,
   "metadata": {},
   "outputs": [],
   "source": [
    "def provide_label(row: pd.Series, centroids:np.array) ->int:\n",
    "    row=np.array(row)\n",
    "    distances=Euclidean_distance(row, centroids)\n",
    "    label = np.argmin(distances)+1\n",
    "    return label"
   ]
  },
  {
   "cell_type": "code",
   "execution_count": null,
   "metadata": {},
   "outputs": [],
   "source": [
    "labeled_x_train=x_train.copy()\n",
    "labeled_x_train['label'] = None\n",
    "iter_pos=0\n",
    "centroids = random_centroids\n",
    "flag=True\n",
    "while iter_pos<max_iter:\n",
    "    labeled_x_train['label'] = x_train.apply(lambda row: provide_label(row, centroids), axis=1)\n",
    "    new_centroids = labeled_x_train.groupby('label').mean()\n",
    "    if new_centroids==centroids:\n",
    "        break\n",
    "    centroids=new_centroids\n",
    "    iter_pos+=1"
   ]
  },
  {
   "cell_type": "code",
   "execution_count": null,
   "metadata": {},
   "outputs": [],
   "source": [
    "def predict(row:np.array, centroids:np.array) ->int:\n",
    "    distances=Euclidean_distance(row, centroids)\n",
    "    label = np.argmin(distances)+1\n",
    "    return label"
   ]
  }
 ],
 "metadata": {
  "interpreter": {
   "hash": "aee8b7b246df8f9039afb4144a1f6fd8d2ca17a180786b69acc140d282b71a49"
  },
  "kernelspec": {
   "display_name": "Python 3.9.1 64-bit",
   "language": "python",
   "name": "python3"
  },
  "language_info": {
   "codemirror_mode": {
    "name": "ipython",
    "version": 3
   },
   "file_extension": ".py",
   "mimetype": "text/x-python",
   "name": "python",
   "nbconvert_exporter": "python",
   "pygments_lexer": "ipython3",
   "version": "3.9.1"
  },
  "orig_nbformat": 4
 },
 "nbformat": 4,
 "nbformat_minor": 2
}
